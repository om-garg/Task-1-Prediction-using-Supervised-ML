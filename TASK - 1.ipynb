{
 "cells": [
  {
   "cell_type": "markdown",
   "id": "1e89df57",
   "metadata": {},
   "source": [
    "## Author : Om Garg"
   ]
  },
  {
   "cell_type": "markdown",
   "id": "c63f6501",
   "metadata": {},
   "source": [
    "## Prediction using Supervised Machine Learning"
   ]
  },
  {
   "cell_type": "code",
   "execution_count": 1,
   "id": "f4674c59",
   "metadata": {},
   "outputs": [],
   "source": [
    "# Importing all libraries required in this notebook\n",
    "import pandas as pd\n",
    "import numpy as np  \n",
    "import matplotlib.pyplot as plt  \n",
    "%matplotlib inline"
   ]
  },
  {
   "cell_type": "code",
   "execution_count": 2,
   "id": "38d5cceb",
   "metadata": {},
   "outputs": [
    {
     "name": "stdout",
     "output_type": "stream",
     "text": [
      "Data imported successfully\n"
     ]
    },
    {
     "data": {
      "text/html": [
       "<div>\n",
       "<style scoped>\n",
       "    .dataframe tbody tr th:only-of-type {\n",
       "        vertical-align: middle;\n",
       "    }\n",
       "\n",
       "    .dataframe tbody tr th {\n",
       "        vertical-align: top;\n",
       "    }\n",
       "\n",
       "    .dataframe thead th {\n",
       "        text-align: right;\n",
       "    }\n",
       "</style>\n",
       "<table border=\"1\" class=\"dataframe\">\n",
       "  <thead>\n",
       "    <tr style=\"text-align: right;\">\n",
       "      <th></th>\n",
       "      <th>Hours</th>\n",
       "      <th>Scores</th>\n",
       "    </tr>\n",
       "  </thead>\n",
       "  <tbody>\n",
       "    <tr>\n",
       "      <th>0</th>\n",
       "      <td>2.5</td>\n",
       "      <td>21</td>\n",
       "    </tr>\n",
       "    <tr>\n",
       "      <th>1</th>\n",
       "      <td>5.1</td>\n",
       "      <td>47</td>\n",
       "    </tr>\n",
       "    <tr>\n",
       "      <th>2</th>\n",
       "      <td>3.2</td>\n",
       "      <td>27</td>\n",
       "    </tr>\n",
       "    <tr>\n",
       "      <th>3</th>\n",
       "      <td>8.5</td>\n",
       "      <td>75</td>\n",
       "    </tr>\n",
       "    <tr>\n",
       "      <th>4</th>\n",
       "      <td>3.5</td>\n",
       "      <td>30</td>\n",
       "    </tr>\n",
       "  </tbody>\n",
       "</table>\n",
       "</div>"
      ],
      "text/plain": [
       "   Hours  Scores\n",
       "0    2.5      21\n",
       "1    5.1      47\n",
       "2    3.2      27\n",
       "3    8.5      75\n",
       "4    3.5      30"
      ]
     },
     "execution_count": 2,
     "metadata": {},
     "output_type": "execute_result"
    }
   ],
   "source": [
    "# Reading data from remote link\n",
    "url = \"http://bit.ly/w-data\"\n",
    "df_score_data = pd.read_csv(url)\n",
    "print(\"Data imported successfully\")\n",
    "\n",
    "df_score_data.head()"
   ]
  },
  {
   "cell_type": "code",
   "execution_count": 3,
   "id": "28312b68",
   "metadata": {},
   "outputs": [
    {
     "data": {
      "text/plain": [
       "(25, 2)"
      ]
     },
     "execution_count": 3,
     "metadata": {},
     "output_type": "execute_result"
    }
   ],
   "source": [
    "df_score_data.shape"
   ]
  },
  {
   "cell_type": "markdown",
   "id": "3adc7a4c",
   "metadata": {},
   "source": [
    "From the above command we can say that this dataset contains 25 rows and 2 colums."
   ]
  },
  {
   "cell_type": "markdown",
   "id": "6e97f9cd",
   "metadata": {},
   "source": [
    "As we can see that there only features, therefore we can do Bivariate analysis directly."
   ]
  },
  {
   "cell_type": "markdown",
   "id": "73f6d242",
   "metadata": {},
   "source": [
    "## Bivariate Analysis"
   ]
  },
  {
   "cell_type": "code",
   "execution_count": 4,
   "id": "bc80f234",
   "metadata": {},
   "outputs": [
    {
     "data": {
      "image/png": "[encoded data removed]",
      "text/plain": [
       "<Figure size 432x288 with 1 Axes>"
      ]
     },
     "metadata": {
      "needs_background": "light"
     },
     "output_type": "display_data"
    }
   ],
   "source": [
    "df_score_data.plot(x = 'Hours', y = 'Scores', style = '*')\n",
    "plt.title('Hours vs Scores')\n",
    "plt.xlabel('Hours Studied')\n",
    "plt.ylabel('Percentage Scored')\n",
    "plt.show()"
   ]
  },
  {
   "cell_type": "markdown",
   "id": "bbedeb6d",
   "metadata": {},
   "source": [
    "From the graph above, we can clearly see that there is a positive linear correlation between the number of hours studied and percentage of score."
   ]
  },
  {
   "cell_type": "markdown",
   "id": "77a94cfa",
   "metadata": {},
   "source": [
    "## Preparaing Data"
   ]
  },
  {
   "cell_type": "markdown",
   "id": "7a3db90e",
   "metadata": {},
   "source": [
    " Now we will divide our data into features and labels"
   ]
  },
  {
   "cell_type": "code",
   "execution_count": 5,
   "id": "4633bed7",
   "metadata": {},
   "outputs": [],
   "source": [
    "x = df_score_data.iloc[:,:1].values "
   ]
  },
  {
   "cell_type": "markdown",
   "id": "a63a1997",
   "metadata": {},
   "source": [
    "Variable x contains all the values of \"Hours\" tuple from the dataset."
   ]
  },
  {
   "cell_type": "code",
   "execution_count": 6,
   "id": "91f3b712",
   "metadata": {},
   "outputs": [],
   "source": [
    "y = df_score_data.iloc[:,1:].values"
   ]
  },
  {
   "cell_type": "markdown",
   "id": "744d2e57",
   "metadata": {},
   "source": [
    "Variable y contains all the values of \"Scores\" tuple from the dataset."
   ]
  },
  {
   "cell_type": "markdown",
   "id": "c3ac8569",
   "metadata": {},
   "source": [
    "Now that we have our features and labels we can split the data into train and test sets using train_test_split() method of Scikit-Learn's built-in."
   ]
  },
  {
   "cell_type": "code",
   "execution_count": 7,
   "id": "c8716509",
   "metadata": {},
   "outputs": [],
   "source": [
    "from sklearn.model_selection import train_test_split  \n",
    "x_train, x_test, y_train, y_test = train_test_split(x, y, test_size=0.2, random_state=0) "
   ]
  },
  {
   "cell_type": "markdown",
   "id": "9393a39d",
   "metadata": {},
   "source": [
    "We have chosen 80% of the data for training purpose and 20% of the data for testing purpose"
   ]
  },
  {
   "cell_type": "markdown",
   "id": "884ca215",
   "metadata": {},
   "source": [
    "## Training the Model"
   ]
  },
  {
   "cell_type": "markdown",
   "id": "ac6344fc",
   "metadata": {},
   "source": [
    "We have split our data into training and testing sets, and now is finally the time to train our algorithm."
   ]
  },
  {
   "cell_type": "markdown",
   "id": "58425e15",
   "metadata": {},
   "source": [
    "In this case we will train the data using Linear Regression.\n",
    "And this can be done using sklearn library."
   ]
  },
  {
   "cell_type": "code",
   "execution_count": 8,
   "id": "10e7699b",
   "metadata": {},
   "outputs": [
    {
     "name": "stdout",
     "output_type": "stream",
     "text": [
      "Model has been trained!!!\n"
     ]
    }
   ],
   "source": [
    "from sklearn.linear_model import LinearRegression  \n",
    "regressor = LinearRegression()  \n",
    "regressor.fit(x_train, y_train) \n",
    "\n",
    "print(\"Model has been trained!!!\")"
   ]
  },
  {
   "cell_type": "markdown",
   "id": "33d0ad69",
   "metadata": {},
   "source": [
    "Since we have our trained model, we will plot the Tested Data and Regression Line"
   ]
  },
  {
   "cell_type": "code",
   "execution_count": 9,
   "id": "5e58431e",
   "metadata": {},
   "outputs": [
    {
     "data": {
      "image/png": "[encoded data removed]",
      "text/plain": [
       "<Figure size 432x288 with 1 Axes>"
      ]
     },
     "metadata": {
      "needs_background": "light"
     },
     "output_type": "display_data"
    }
   ],
   "source": [
    "# Plotting the regression line\n",
    "line = regressor.coef_*x+regressor.intercept_\n",
    "\n",
    "# Plotting for the test data\n",
    "plt.scatter(x, y)\n",
    "plt.plot(x, line);\n",
    "plt.show()"
   ]
  },
  {
   "cell_type": "markdown",
   "id": "6b7d8590",
   "metadata": {},
   "source": [
    "## Making Prediction\n",
    "\n",
    "Now we have our trained model, it's time to predict values using the model"
   ]
  },
  {
   "cell_type": "code",
   "execution_count": 10,
   "id": "0ab88d23",
   "metadata": {},
   "outputs": [
    {
     "name": "stdout",
     "output_type": "stream",
     "text": [
      "[[1.5]\n",
      " [3.2]\n",
      " [7.4]\n",
      " [2.5]\n",
      " [5.9]]\n"
     ]
    }
   ],
   "source": [
    "print(x_test)\n",
    "y_predict = regressor.predict(x_test)"
   ]
  },
  {
   "cell_type": "markdown",
   "id": "4840f441",
   "metadata": {},
   "source": [
    "In the above step we have tested our model using values of x_test.\n",
    "\n",
    "And now we will compare predicted values with y_test."
   ]
  },
  {
   "cell_type": "code",
   "execution_count": 11,
   "id": "14b1a3e2",
   "metadata": {},
   "outputs": [
    {
     "data": {
      "text/html": [
       "<div>\n",
       "<style scoped>\n",
       "    .dataframe tbody tr th:only-of-type {\n",
       "        vertical-align: middle;\n",
       "    }\n",
       "\n",
       "    .dataframe tbody tr th {\n",
       "        vertical-align: top;\n",
       "    }\n",
       "\n",
       "    .dataframe thead th {\n",
       "        text-align: right;\n",
       "    }\n",
       "</style>\n",
       "<table border=\"1\" class=\"dataframe\">\n",
       "  <thead>\n",
       "    <tr style=\"text-align: right;\">\n",
       "      <th></th>\n",
       "      <th>Actual</th>\n",
       "      <th>Predicted</th>\n",
       "    </tr>\n",
       "  </thead>\n",
       "  <tbody>\n",
       "    <tr>\n",
       "      <th>0</th>\n",
       "      <td>[20]</td>\n",
       "      <td>[16.884144762398048]</td>\n",
       "    </tr>\n",
       "    <tr>\n",
       "      <th>1</th>\n",
       "      <td>[27]</td>\n",
       "      <td>[33.73226077948985]</td>\n",
       "    </tr>\n",
       "    <tr>\n",
       "      <th>2</th>\n",
       "      <td>[69]</td>\n",
       "      <td>[75.35701799818723]</td>\n",
       "    </tr>\n",
       "    <tr>\n",
       "      <th>3</th>\n",
       "      <td>[30]</td>\n",
       "      <td>[26.79480124304028]</td>\n",
       "    </tr>\n",
       "    <tr>\n",
       "      <th>4</th>\n",
       "      <td>[62]</td>\n",
       "      <td>[60.49103327722388]</td>\n",
       "    </tr>\n",
       "  </tbody>\n",
       "</table>\n",
       "</div>"
      ],
      "text/plain": [
       "  Actual             Predicted\n",
       "0   [20]  [16.884144762398048]\n",
       "1   [27]   [33.73226077948985]\n",
       "2   [69]   [75.35701799818723]\n",
       "3   [30]   [26.79480124304028]\n",
       "4   [62]   [60.49103327722388]"
      ]
     },
     "execution_count": 11,
     "metadata": {},
     "output_type": "execute_result"
    }
   ],
   "source": [
    "# Comparing Actual vs Predicted\n",
    "df = pd.DataFrame({\"Actual\": [y_test[0],y_test[1],y_test[2],y_test[3],y_test[4]], \"Predicted\": [y_predict[0],y_predict[1],y_predict[2],y_predict[3],y_predict[4]]})\n",
    "df "
   ]
  },
  {
   "cell_type": "markdown",
   "id": "8514b5bb",
   "metadata": {},
   "source": [
    "## What will be the predicted score if a student studies for 9.25 hrs/ day?"
   ]
  },
  {
   "cell_type": "code",
   "execution_count": 12,
   "id": "8d84f0f8",
   "metadata": {},
   "outputs": [
    {
     "name": "stdout",
     "output_type": "stream",
     "text": [
      "No of Hours = 9.25\n",
      "Predicted Score = [[93.69173249]]\n"
     ]
    }
   ],
   "source": [
    "# You can also test with your own data\n",
    "hours = 9.25\n",
    "own_pred = regressor.predict([[hours]])\n",
    "print(\"No of Hours = {}\".format(hours))\n",
    "print(\"Predicted Score = {}\".format(own_pred))"
   ]
  },
  {
   "cell_type": "markdown",
   "id": "c7bb9e0c",
   "metadata": {},
   "source": [
    "## Evaluating the model\n",
    "\n",
    "The final step is to evaluate the performance of algorithm. This step is particularly important to compare how well different algorithms perform on a particular dataset. For simplicity here, we have chosen the mean square error. There are many such metrics."
   ]
  },
  {
   "cell_type": "code",
   "execution_count": 13,
   "id": "ec9e8279",
   "metadata": {},
   "outputs": [
    {
     "name": "stdout",
     "output_type": "stream",
     "text": [
      "Mean Absolute Error: 4.183859899002975\n"
     ]
    }
   ],
   "source": [
    "from sklearn import metrics  \n",
    "print('Mean Absolute Error:', \n",
    "      metrics.mean_absolute_error(y_test, y_predict)) "
   ]
  }
 ],
 "metadata": {
  "kernelspec": {
   "display_name": "Python 3",
   "language": "python",
   "name": "python3"
  },
  "language_info": {
   "codemirror_mode": {
    "name": "ipython",
    "version": 3
   },
   "file_extension": ".py",
   "mimetype": "text/x-python",
   "name": "python",
   "nbconvert_exporter": "python",
   "pygments_lexer": "ipython3",
   "version": "3.9.5"
  }
 },
 "nbformat": 4,
 "nbformat_minor": 5
}
